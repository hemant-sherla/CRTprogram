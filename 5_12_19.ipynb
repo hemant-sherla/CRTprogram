{
  "nbformat": 4,
  "nbformat_minor": 0,
  "metadata": {
    "colab": {
      "name": "5/12/19.ipynb",
      "provenance": [],
      "collapsed_sections": [],
      "include_colab_link": true
    },
    "kernelspec": {
      "name": "python3",
      "display_name": "Python 3"
    }
  },
  "cells": [
    {
      "cell_type": "markdown",
      "metadata": {
        "id": "view-in-github",
        "colab_type": "text"
      },
      "source": [
        "<a href=\"https://colab.research.google.com/github/hemant-sherla/CRTprogram/blob/master/5_12_19.ipynb\" target=\"_parent\"><img src=\"https://colab.research.google.com/assets/colab-badge.svg\" alt=\"Open In Colab\"/></a>"
      ]
    },
    {
      "cell_type": "code",
      "metadata": {
        "colab_type": "code",
        "outputId": "7a9aceb2-2586-456a-8282-cb5300637bbb",
        "id": "H5Ve6aI7lJeI",
        "colab": {
          "base_uri": "https://localhost:8080/",
          "height": 85
        }
      },
      "source": [
        "s1 = 'python'\n",
        "print(s1[1:-6])\n",
        "print(s1[1::3])\n",
        "#"
      ],
      "execution_count": 0,
      "outputs": [
        {
          "output_type": "stream",
          "text": [
            "\n",
            "yo\n",
            "pyt\n",
            "yth\n"
          ],
          "name": "stdout"
        }
      ]
    },
    {
      "cell_type": "code",
      "metadata": {
        "id": "dIq-XOt2KT69",
        "colab_type": "code",
        "colab": {
          "base_uri": "https://localhost:8080/",
          "height": 85
        },
        "outputId": "ea90d858-2bb8-4491-839f-d2294ae3648c"
      },
      "source": [
        "# basic list of functions\n",
        "li=[1,9,25,5]\n",
        "print(max(li))\n",
        "print(min(li))\n",
        "print(sum(li))\n",
        "print(sum(li)//len(li))\n",
        "li.append(29)"
      ],
      "execution_count": 3,
      "outputs": [
        {
          "output_type": "stream",
          "text": [
            "25\n",
            "1\n",
            "40\n",
            "10\n"
          ],
          "name": "stdout"
        }
      ]
    },
    {
      "cell_type": "code",
      "metadata": {
        "id": "qcxVezhDLJfB",
        "colab_type": "code",
        "colab": {
          "base_uri": "https://localhost:8080/",
          "height": 34
        },
        "outputId": "a5a9c7af-b1ec-4f76-b022-125f62f92f32"
      },
      "source": [
        "li=[1,9,25,5]\n",
        "li.append(29) #add new item\n",
        "li"
      ],
      "execution_count": 7,
      "outputs": [
        {
          "output_type": "execute_result",
          "data": {
            "text/plain": [
              "[1, 9, 25, 5, 29]"
            ]
          },
          "metadata": {
            "tags": []
          },
          "execution_count": 7
        }
      ]
    },
    {
      "cell_type": "code",
      "metadata": {
        "id": "4jXBWY5-L5cR",
        "colab_type": "code",
        "colab": {
          "base_uri": "https://localhost:8080/",
          "height": 34
        },
        "outputId": "ec7810cb-bc1f-4371-a30c-0a715d7d22f5"
      },
      "source": [
        "li=[1,9,25,5]\n",
        "li.insert(2,56) # add new value at certain place\n",
        "li"
      ],
      "execution_count": 9,
      "outputs": [
        {
          "output_type": "execute_result",
          "data": {
            "text/plain": [
              "[1, 9, 56, 25, 5]"
            ]
          },
          "metadata": {
            "tags": []
          },
          "execution_count": 9
        }
      ]
    },
    {
      "cell_type": "code",
      "metadata": {
        "id": "jpzLhBzdMafA",
        "colab_type": "code",
        "colab": {
          "base_uri": "https://localhost:8080/",
          "height": 34
        },
        "outputId": "ebb91779-c6d9-4eaf-d777-8c6b0f448117"
      },
      "source": [
        "li=[1,9,25,5,25]\n",
        "li.insert(2,56)\n",
        "li\n",
        "li.count(25)  #count no of same item present"
      ],
      "execution_count": 15,
      "outputs": [
        {
          "output_type": "execute_result",
          "data": {
            "text/plain": [
              "2"
            ]
          },
          "metadata": {
            "tags": []
          },
          "execution_count": 15
        }
      ]
    },
    {
      "cell_type": "code",
      "metadata": {
        "id": "s-1n3SAlM84O",
        "colab_type": "code",
        "colab": {
          "base_uri": "https://localhost:8080/",
          "height": 34
        },
        "outputId": "443e7855-dd25-45fa-b5ba-0d86cdc9d5e2"
      },
      "source": [
        "li=[1,9,25,5,25]\n",
        "li.sort() # ascending order\n",
        "li"
      ],
      "execution_count": 17,
      "outputs": [
        {
          "output_type": "execute_result",
          "data": {
            "text/plain": [
              "[1, 5, 9, 25, 25]"
            ]
          },
          "metadata": {
            "tags": []
          },
          "execution_count": 17
        }
      ]
    },
    {
      "cell_type": "code",
      "metadata": {
        "id": "knUJ-hFKNuhP",
        "colab_type": "code",
        "colab": {
          "base_uri": "https://localhost:8080/",
          "height": 34
        },
        "outputId": "adf59c27-a465-4c10-c971-d218e71a8626"
      },
      "source": [
        "li=[1,9,25,5,25]\n",
        "li.pop()  # removes last item\n",
        "li"
      ],
      "execution_count": 19,
      "outputs": [
        {
          "output_type": "execute_result",
          "data": {
            "text/plain": [
              "[1, 9, 25, 5]"
            ]
          },
          "metadata": {
            "tags": []
          },
          "execution_count": 19
        }
      ]
    },
    {
      "cell_type": "code",
      "metadata": {
        "id": "1JBcxq4POYVl",
        "colab_type": "code",
        "colab": {
          "base_uri": "https://localhost:8080/",
          "height": 34
        },
        "outputId": "28067231-057d-4a64-9867-62938235b5e1"
      },
      "source": [
        "li=[1,9,25,5,25]\n",
        "li.pop(2)  # removes perticular item\n",
        "li"
      ],
      "execution_count": 22,
      "outputs": [
        {
          "output_type": "execute_result",
          "data": {
            "text/plain": [
              "[1, 9, 5, 25]"
            ]
          },
          "metadata": {
            "tags": []
          },
          "execution_count": 22
        }
      ]
    },
    {
      "cell_type": "code",
      "metadata": {
        "id": "6l7hEXO_O0Et",
        "colab_type": "code",
        "colab": {
          "base_uri": "https://localhost:8080/",
          "height": 34
        },
        "outputId": "8a07b8ad-d5b6-48c8-c7b0-173aa5a8fe93"
      },
      "source": [
        "li1=[1,9,25,5,25]\n",
        "li.extend(li1)  # extend the line \n",
        "li"
      ],
      "execution_count": 24,
      "outputs": [
        {
          "output_type": "execute_result",
          "data": {
            "text/plain": [
              "[1, 9, 25, 5, 25, 1, 9, 25, 5, 25]"
            ]
          },
          "metadata": {
            "tags": []
          },
          "execution_count": 24
        }
      ]
    },
    {
      "cell_type": "code",
      "metadata": {
        "id": "Uyb-nkUyPmya",
        "colab_type": "code",
        "colab": {
          "base_uri": "https://localhost:8080/",
          "height": 34
        },
        "outputId": "3af59213-28f4-4ddf-9b57-eb812bd3a1b0"
      },
      "source": [
        "li=[1,9,25,5,25]\n",
        "li.reverse()  # reverse the line \n",
        "li"
      ],
      "execution_count": 28,
      "outputs": [
        {
          "output_type": "execute_result",
          "data": {
            "text/plain": [
              "[25, 5, 25, 9, 1]"
            ]
          },
          "metadata": {
            "tags": []
          },
          "execution_count": 28
        }
      ]
    },
    {
      "cell_type": "code",
      "metadata": {
        "id": "7fxDMV9DQnEL",
        "colab_type": "code",
        "colab": {
          "base_uri": "https://localhost:8080/",
          "height": 51
        },
        "outputId": "49c89b04-8945-46a7-a3d4-d6cf147309ac"
      },
      "source": [
        "def smallnumber(li):\n",
        "  li.sort()\n",
        "  return li[0]\n",
        "def genericsmall(li,n):\n",
        "  li.sort()\n",
        "  return li[n-1]\n",
        "li=[2,9,54,22,15,31]\n",
        "print(smallnumber(li))\n",
        "print(genericsmall(li,3))"
      ],
      "execution_count": 48,
      "outputs": [
        {
          "output_type": "stream",
          "text": [
            "2\n",
            "15\n"
          ],
          "name": "stdout"
        }
      ]
    },
    {
      "cell_type": "code",
      "metadata": {
        "id": "n8yTCK9HSwxD",
        "colab_type": "code",
        "colab": {
          "base_uri": "https://localhost:8080/",
          "height": 51
        },
        "outputId": "ac709542-837c-4b78-b5e1-d6bcab67b946"
      },
      "source": [
        "def largenumber(li):\n",
        "  li.sort()\n",
        "  return li[-1]\n",
        "def genericlarge(li,n):\n",
        "  li.sort()\n",
        "  return li[n]\n",
        "li=[2,9,54,22,15,31]\n",
        "print(largenumber(li))\n",
        "print(genericlarge(li,3))"
      ],
      "execution_count": 47,
      "outputs": [
        {
          "output_type": "stream",
          "text": [
            "54\n",
            "22\n"
          ],
          "name": "stdout"
        }
      ]
    },
    {
      "cell_type": "markdown",
      "metadata": {
        "id": "3l4lyoiFZ3tW",
        "colab_type": "text"
      },
      "source": [
        "# tuple\n",
        "- parenthesis()--->tuple and square brackets[]---->list\n",
        "- different between list and list\n",
        "   - list are mutable - can be changed/modified\n",
        "   - used to access and modify,add,delete data\n",
        "   - tuples are immutable - cant be changed\n",
        "   - used to access data only"
      ]
    },
    {
      "cell_type": "code",
      "metadata": {
        "id": "HkFPBUQdaMYx",
        "colab_type": "code",
        "colab": {
          "base_uri": "https://localhost:8080/",
          "height": 34
        },
        "outputId": "8cd2944e-095f-44bb-f2a0-976fc3a81c77"
      },
      "source": [
        "t1 = (1,2,3,4,5)\n",
        "t1\n",
        "print(type(t1),t1[1:5])"
      ],
      "execution_count": 49,
      "outputs": [
        {
          "output_type": "stream",
          "text": [
            "<class 'tuple'> (2, 3, 4, 5)\n"
          ],
          "name": "stdout"
        }
      ]
    },
    {
      "cell_type": "markdown",
      "metadata": {
        "id": "dn5MVeC2dfQt",
        "colab_type": "text"
      },
      "source": [
        " ## dictionaries\n",
        " - it works on the concept of set unique data\n",
        " - keys,values is the unique identifierfor for the values\n",
        " - each key is seperated from its value with colon(:)\n",
        " - each key and value is seperated with coma(,)\n",
        " - dictionaries are enhanced with surl branches{}\n"
      ]
    },
    {
      "cell_type": "code",
      "metadata": {
        "id": "uG-aXznddiZY",
        "colab_type": "code",
        "colab": {
          "base_uri": "https://localhost:8080/",
          "height": 34
        },
        "outputId": "6b0549d0-cc48-4d68-e755-d883358a4be9"
      },
      "source": [
        "d1 = {\"name\":\"gitam\",\"email id\":\"gitam@gmail.com\"}\n",
        "d1[\"email id\"]\n",
        "d1[\"name\"]\n",
        "d1"
      ],
      "execution_count": 54,
      "outputs": [
        {
          "output_type": "execute_result",
          "data": {
            "text/plain": [
              "{'email id': 'gitam@gmail.com', 'name': 'gitam'}"
            ]
          },
          "metadata": {
            "tags": []
          },
          "execution_count": 54
        }
      ]
    },
    {
      "cell_type": "code",
      "metadata": {
        "id": "rZuIlvlLdvpR",
        "colab_type": "code",
        "colab": {
          "base_uri": "https://localhost:8080/",
          "height": 34
        },
        "outputId": "a3725410-e302-41d1-bd62-cba9e740d51f"
      },
      "source": [
        "d1[\"course\"] = \"python\"\n",
        "d1"
      ],
      "execution_count": 57,
      "outputs": [
        {
          "output_type": "execute_result",
          "data": {
            "text/plain": [
              "{'course': 'python', 'email id': 'gitam@gmail.com', 'name': 'gitam'}"
            ]
          },
          "metadata": {
            "tags": []
          },
          "execution_count": 57
        }
      ]
    },
    {
      "cell_type": "code",
      "metadata": {
        "id": "uubgLsiWepew",
        "colab_type": "code",
        "colab": {
          "base_uri": "https://localhost:8080/",
          "height": 34
        },
        "outputId": "dc3e74d4-0bd6-465a-89fe-b8f436efad59"
      },
      "source": [
        "d1 = {\"name\":\"gitam\",\"email id\":\"gitam@gmail.com\"}\n",
        "d1.keys()"
      ],
      "execution_count": 61,
      "outputs": [
        {
          "output_type": "execute_result",
          "data": {
            "text/plain": [
              "dict_keys(['name', 'email id'])"
            ]
          },
          "metadata": {
            "tags": []
          },
          "execution_count": 61
        }
      ]
    },
    {
      "cell_type": "code",
      "metadata": {
        "id": "lDHCHUI_gKmh",
        "colab_type": "code",
        "colab": {
          "base_uri": "https://localhost:8080/",
          "height": 34
        },
        "outputId": "0e184f18-81eb-4ae1-ea6b-642cdf060e2f"
      },
      "source": [
        "d1.values()"
      ],
      "execution_count": 62,
      "outputs": [
        {
          "output_type": "execute_result",
          "data": {
            "text/plain": [
              "dict_values(['gitam', 'gitam@gmail.com'])"
            ]
          },
          "metadata": {
            "tags": []
          },
          "execution_count": 62
        }
      ]
    },
    {
      "cell_type": "code",
      "metadata": {
        "id": "xPUuvr7XgltW",
        "colab_type": "code",
        "colab": {
          "base_uri": "https://localhost:8080/",
          "height": 34
        },
        "outputId": "ad7fc8cf-652f-4d06-dac3-ea95b028ff75"
      },
      "source": [
        "d1.items()"
      ],
      "execution_count": 63,
      "outputs": [
        {
          "output_type": "execute_result",
          "data": {
            "text/plain": [
              "dict_items([('name', 'gitam'), ('email id', 'gitam@gmail.com')])"
            ]
          },
          "metadata": {
            "tags": []
          },
          "execution_count": 63
        }
      ]
    },
    {
      "cell_type": "markdown",
      "metadata": {
        "id": "8JcUHj_GiCCK",
        "colab_type": "text"
      },
      "source": [
        "# strings"
      ]
    },
    {
      "cell_type": "code",
      "metadata": {
        "id": "bJ1zNeQciIA-",
        "colab_type": "code",
        "colab": {
          "base_uri": "https://localhost:8080/",
          "height": 51
        },
        "outputId": "438424eb-2281-49c6-fdfa-17e50f50de8d"
      },
      "source": [
        "s1 = 'python'\n",
        "print(s1)\n",
        "print(type(s1))"
      ],
      "execution_count": 64,
      "outputs": [
        {
          "output_type": "stream",
          "text": [
            "python\n",
            "<class 'str'>\n"
          ],
          "name": "stdout"
        }
      ]
    },
    {
      "cell_type": "code",
      "metadata": {
        "id": "E7qZaTrciUDw",
        "colab_type": "code",
        "colab": {
          "base_uri": "https://localhost:8080/",
          "height": 85
        },
        "outputId": "c1069e9f-8bf3-48c8-d2c4-759726c1ccb5"
      },
      "source": [
        "s1 = 'python'\n",
        "print(s1[0])\n",
        "print(s1[3])\n",
        "print(s1[3])\n",
        "print(s1[len(s1)-1])"
      ],
      "execution_count": 72,
      "outputs": [
        {
          "output_type": "stream",
          "text": [
            "p\n",
            "h\n",
            "h\n",
            "n\n"
          ],
          "name": "stdout"
        }
      ]
    },
    {
      "cell_type": "code",
      "metadata": {
        "colab_type": "code",
        "outputId": "6b831c11-8996-4121-a953-89f33f3fd705",
        "id": "UJN_Q3WelI_Y",
        "colab": {
          "base_uri": "https://localhost:8080/",
          "height": 102
        }
      },
      "source": [
        "s1 = 'python'\n",
        "print(s1[-6])\n",
        "print(s1[0:3])\n",
        "print(s1[:3])\n",
        "print(s1[1:4])\n",
        "print(s1[2:3])"
      ],
      "execution_count": 0,
      "outputs": [
        {
          "output_type": "stream",
          "text": [
            "p\n",
            "pyt\n",
            "pyt\n",
            "yth\n",
            "t\n"
          ],
          "name": "stdout"
        }
      ]
    },
    {
      "cell_type": "code",
      "metadata": {
        "id": "_QcA2Mb-lQUM",
        "colab_type": "code",
        "colab": {
          "base_uri": "https://localhost:8080/",
          "height": 102
        },
        "outputId": "d7c1ff5b-ac69-4b99-f737-7c7e22164859"
      },
      "source": [
        "s1 = 'python'\n",
        "print(s1[3:-1])\n",
        "print(s1[0:3])\n",
        "print(s1[-1::-1])\n",
        "print(s1[::-2])\n",
        "print(s1[-1:-3:-2])"
      ],
      "execution_count": 82,
      "outputs": [
        {
          "output_type": "stream",
          "text": [
            "ho\n",
            "pyt\n",
            "nohtyp\n",
            "nhy\n",
            "n\n"
          ],
          "name": "stdout"
        }
      ]
    },
    {
      "cell_type": "code",
      "metadata": {
        "id": "TcaEenuAlgnY",
        "colab_type": "code",
        "colab": {
          "base_uri": "https://localhost:8080/",
          "height": 51
        },
        "outputId": "09304e8c-239a-4a34-fff5-e5c0c307345c"
      },
      "source": [
        "def ispallndrome(str):\n",
        "  if str==str[::-1]:\n",
        "    return True\n",
        "  else:\n",
        "    return False\n",
        "  return\n",
        "print(ispallndrome('python'))\n",
        "print(ispallndrome('ganag'))"
      ],
      "execution_count": 91,
      "outputs": [
        {
          "output_type": "stream",
          "text": [
            "False\n",
            "True\n"
          ],
          "name": "stdout"
        }
      ]
    },
    {
      "cell_type": "code",
      "metadata": {
        "id": "oH10pVp6pAl4",
        "colab_type": "code",
        "colab": {
          "base_uri": "https://localhost:8080/",
          "height": 51
        },
        "outputId": "c918dabc-aabe-4b00-90f7-2b5a5c6903dd"
      },
      "source": [
        "s1 = 'python'\n",
        "print(s1.upper())\n",
        "print(s1.lower())"
      ],
      "execution_count": 92,
      "outputs": [
        {
          "output_type": "stream",
          "text": [
            "PYTHON\n",
            "python\n"
          ],
          "name": "stdout"
        }
      ]
    },
    {
      "cell_type": "markdown",
      "metadata": {
        "id": "Wg-AQ1ZursAM",
        "colab_type": "text"
      },
      "source": [
        "## string built in methods\n",
        "- upper()\n",
        "- lower()\n",
        "## string boolean built in methods\n",
        "- isupper()\n",
        "- islower()\n",
        "- istitle()\n",
        "- isnumeric()\n",
        "- isalpha()\n",
        "- isspace()"
      ]
    },
    {
      "cell_type": "code",
      "metadata": {
        "id": "oikSOgaOr0ys",
        "colab_type": "code",
        "colab": {
          "base_uri": "https://localhost:8080/",
          "height": 68
        },
        "outputId": "e959c0a3-c948-46d9-8f7d-c0f805174c66"
      },
      "source": [
        "s1 = 'python'\n",
        "print(s1.isupper())\n",
        "print(s1.islower())\n",
        "print(s1.istitle())"
      ],
      "execution_count": 93,
      "outputs": [
        {
          "output_type": "stream",
          "text": [
            "False\n",
            "True\n",
            "False\n"
          ],
          "name": "stdout"
        }
      ]
    },
    {
      "cell_type": "code",
      "metadata": {
        "id": "P2aAn2B3sdok",
        "colab_type": "code",
        "colab": {
          "base_uri": "https://localhost:8080/",
          "height": 34
        },
        "outputId": "a61944f7-188b-4279-b496-985999b45b5f"
      },
      "source": [
        "s1 = ' '\n",
        "print(s1.isspace())"
      ],
      "execution_count": 95,
      "outputs": [
        {
          "output_type": "stream",
          "text": [
            "True\n"
          ],
          "name": "stdout"
        }
      ]
    },
    {
      "cell_type": "code",
      "metadata": {
        "colab_type": "code",
        "outputId": "29257f3f-56c3-4ff4-8b1c-665d5b21728d",
        "id": "vTmkRMQWt_wq",
        "colab": {
          "base_uri": "https://localhost:8080/",
          "height": 34
        }
      },
      "source": [
        "s1 = 'python'\n",
        "print(\" \".join(s1))"
      ],
      "execution_count": 99,
      "outputs": [
        {
          "output_type": "stream",
          "text": [
            "p y t h o n\n"
          ],
          "name": "stdout"
        }
      ]
    },
    {
      "cell_type": "code",
      "metadata": {
        "id": "_pJ0yKP1uOlG",
        "colab_type": "code",
        "colab": {
          "base_uri": "https://localhost:8080/",
          "height": 34
        },
        "outputId": "065706af-ae85-4450-f9c8-a11e4370f464"
      },
      "source": [
        "s1 = 'python'\n",
        "print(\",\".join(s1))"
      ],
      "execution_count": 100,
      "outputs": [
        {
          "output_type": "stream",
          "text": [
            "p,y,t,h,o,n\n"
          ],
          "name": "stdout"
        }
      ]
    },
    {
      "cell_type": "code",
      "metadata": {
        "id": "L1l0n-sXutIb",
        "colab_type": "code",
        "colab": {
          "base_uri": "https://localhost:8080/",
          "height": 34
        },
        "outputId": "637e2bec-39bd-43a8-c13e-4221a3aedfc0"
      },
      "source": [
        "s1 = 'python program is easy to learn'\n",
        "print(s1.split())"
      ],
      "execution_count": 105,
      "outputs": [
        {
          "output_type": "stream",
          "text": [
            "['python', 'program', 'is', 'easy', 'to', 'learn']\n"
          ],
          "name": "stdout"
        }
      ]
    },
    {
      "cell_type": "code",
      "metadata": {
        "id": "Ol42iFpxvy2X",
        "colab_type": "code",
        "colab": {
          "base_uri": "https://localhost:8080/",
          "height": 34
        },
        "outputId": "cc904184-8b72-4545-a3e4-cb469a1c5f66"
      },
      "source": [
        "s1 = 'python program is easy to learn'\n",
        "print(s1.split('a'))"
      ],
      "execution_count": 106,
      "outputs": [
        {
          "output_type": "stream",
          "text": [
            "['python progr', 'm is e', 'sy to le', 'rn']\n"
          ],
          "name": "stdout"
        }
      ]
    },
    {
      "cell_type": "code",
      "metadata": {
        "id": "o6W630HUwTSC",
        "colab_type": "code",
        "colab": {
          "base_uri": "https://localhost:8080/",
          "height": 34
        },
        "outputId": "4008f8d8-85ac-49d9-8d6c-52758e7a4af1"
      },
      "source": [
        "s1 = 'python program is easy to learn'\n",
        "print(s1.replace(\"ram\",\"application\"))"
      ],
      "execution_count": 108,
      "outputs": [
        {
          "output_type": "stream",
          "text": [
            "python progapplication is easy to learn\n"
          ],
          "name": "stdout"
        }
      ]
    },
    {
      "cell_type": "code",
      "metadata": {
        "id": "d11tz2gww0gO",
        "colab_type": "code",
        "colab": {}
      },
      "source": [
        ""
      ],
      "execution_count": 0,
      "outputs": []
    }
  ]
}