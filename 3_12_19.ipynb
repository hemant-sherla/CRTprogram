{
  "nbformat": 4,
  "nbformat_minor": 0,
  "metadata": {
    "colab": {
      "name": "3/12/19.ipynb",
      "provenance": [],
      "include_colab_link": true
    },
    "kernelspec": {
      "name": "python3",
      "display_name": "Python 3"
    }
  },
  "cells": [
    {
      "cell_type": "markdown",
      "metadata": {
        "id": "view-in-github",
        "colab_type": "text"
      },
      "source": [
        "<a href=\"https://colab.research.google.com/github/hemant-sherla/CRTprogram/blob/master/3_12_19.ipynb\" target=\"_parent\"><img src=\"https://colab.research.google.com/assets/colab-badge.svg\" alt=\"Open In Colab\"/></a>"
      ]
    },
    {
      "cell_type": "code",
      "metadata": {
        "id": "qQbV0Q6xBifc",
        "colab_type": "code",
        "colab": {}
      },
      "source": [
        "![text]"
      ],
      "execution_count": 0,
      "outputs": []
    },
    {
      "cell_type": "markdown",
      "metadata": {
        "id": "A8SWT-K9Bl0C",
        "colab_type": "text"
      },
      "source": [
        ""
      ]
    },
    {
      "cell_type": "markdown",
      "metadata": {
        "id": "GbzeW_LLBoo5",
        "colab_type": "text"
      },
      "source": [
        "# insert image\n",
        "![text](https://i.udemycdn.com/course/750x422/1817082_cf8a_9.jpg)"
      ]
    },
    {
      "cell_type": "markdown",
      "metadata": {
        "id": "pF4JW73BB88K",
        "colab_type": "text"
      },
      "source": [
        "# insert site\n",
        ".[site](https://www.google.com/url?sa=i&source=images&cd=&ved=2ahUKEwj8kYnp0pjmAhXWT30KHdEjDysQjRx6BAgBEAQ&url=https%3A%2F%2Fwww.udemy.com%2Fcourse%2Fpython-beginner-to-advanced-with-web-scraping-projects%2F&psig=AOvVaw2WimdqRq7SEbDPgw6R3U1X&ust=1575433913958645)"
      ]
    },
    {
      "cell_type": "markdown",
      "metadata": {
        "id": "B1g98LIpCVTO",
        "colab_type": "text"
      },
      "source": [
        "1. abc\n",
        "2. ghi\n",
        "    1. a\n",
        "    2. b\n",
        "3. hij\n",
        "   A. c\n",
        "   b. d"
      ]
    },
    {
      "cell_type": "markdown",
      "metadata": {
        "id": "i8VayG8jCpAB",
        "colab_type": "text"
      },
      "source": [
        "### symbols of unordered list\n",
        "\n",
        "\n",
        "\n",
        "- jd\n",
        "- jyt\n",
        "\n",
        "\n",
        "\n"
      ]
    },
    {
      "cell_type": "code",
      "metadata": {
        "id": "6WtAXzWNDep6",
        "colab_type": "code",
        "outputId": "ffdfc684-8034-40da-a0d8-1664b8960fcd",
        "colab": {
          "base_uri": "https://localhost:8080/",
          "height": 34
        }
      },
      "source": [
        "print(\"hello world\")"
      ],
      "execution_count": 0,
      "outputs": [
        {
          "output_type": "stream",
          "text": [
            "hello world\n"
          ],
          "name": "stdout"
        }
      ]
    },
    {
      "cell_type": "code",
      "metadata": {
        "id": "NuPA8awtDftA",
        "colab_type": "code",
        "outputId": "b55da4f7-3b6c-4dd3-c85c-686d72b45d2c",
        "colab": {
          "base_uri": "https://localhost:8080/",
          "height": 34
        }
      },
      "source": [
        "# variable creation\n",
        "a= 10\n",
        "b= 20\n",
        "a+b"
      ],
      "execution_count": 0,
      "outputs": [
        {
          "output_type": "execute_result",
          "data": {
            "text/plain": [
              "30"
            ]
          },
          "metadata": {
            "tags": []
          },
          "execution_count": 2
        }
      ]
    },
    {
      "cell_type": "code",
      "metadata": {
        "id": "J1Jr9Mz6DzbC",
        "colab_type": "code",
        "outputId": "9ffa53be-f516-4fb1-9615-4d2c8786cf2e",
        "colab": {
          "base_uri": "https://localhost:8080/",
          "height": 34
        }
      },
      "source": [
        "name = \"GITAM\"\n",
        "print(\"university\"+name)"
      ],
      "execution_count": 0,
      "outputs": [
        {
          "output_type": "stream",
          "text": [
            "universityGITAM\n"
          ],
          "name": "stdout"
        }
      ]
    },
    {
      "cell_type": "code",
      "metadata": {
        "id": "Qs9azG62ED4t",
        "colab_type": "code",
        "outputId": "ab87a877-5e09-4719-8c04-156528313fb5",
        "colab": {
          "base_uri": "https://localhost:8080/",
          "height": 68
        }
      },
      "source": [
        "name = input(\"enter name\")\n",
        "age = int(input(\"enter age\"))\n",
        "print(\"my name is \",name,\"and my age is \",age)"
      ],
      "execution_count": 0,
      "outputs": [
        {
          "output_type": "stream",
          "text": [
            "enter namehemant\n",
            "enter age20\n",
            "my name is  hemant and my age is  20\n"
          ],
          "name": "stdout"
        }
      ]
    },
    {
      "cell_type": "markdown",
      "metadata": {
        "id": "lhl4m0GNFQax",
        "colab_type": "text"
      },
      "source": [
        "# take two inputs and do arthematic operations\n",
        "## add,sub,multiplications,divide"
      ]
    },
    {
      "cell_type": "code",
      "metadata": {
        "id": "g1bEzoudGCqf",
        "colab_type": "code",
        "outputId": "40c9015c-a8c4-4f93-8475-7849867737d7",
        "colab": {
          "base_uri": "https://localhost:8080/",
          "height": 119
        }
      },
      "source": [
        "a= int(input(\"enter a=\"))\n",
        "b= int(input(\"enter b=\"))\n",
        "c=a+b\n",
        "d=a-b\n",
        "e=a*b\n",
        "f=a/b\n",
        "print(\"sum= \",c)\n",
        "print(\"difference= \",d)\n",
        "print(\"product=\",e)\n",
        "print(\"divide=\",f)"
      ],
      "execution_count": 0,
      "outputs": [
        {
          "output_type": "stream",
          "text": [
            "enter a=10\n",
            "enter b=10\n",
            "sum=  20\n",
            "difference=  0\n",
            "product= 100\n",
            "divide= 1.0\n"
          ],
          "name": "stdout"
        }
      ]
    },
    {
      "cell_type": "markdown",
      "metadata": {
        "id": "OCZS3bhlIEtY",
        "colab_type": "text"
      },
      "source": [
        "# data types\n",
        "## int\n",
        "## float\n",
        "## complex\n",
        "## bolean\n",
        "## string\n"
      ]
    },
    {
      "cell_type": "code",
      "metadata": {
        "id": "QkA3w2PNIbZX",
        "colab_type": "code",
        "outputId": "24929454-b05a-4ad6-abba-865647b85139",
        "colab": {
          "base_uri": "https://localhost:8080/",
          "height": 34
        }
      },
      "source": [
        "a=10\n",
        "b=10.50\n",
        "c=5+5j\n",
        "print(type(a),type(b),type(c))\n"
      ],
      "execution_count": 0,
      "outputs": [
        {
          "output_type": "stream",
          "text": [
            "<class 'int'> <class 'float'> <class 'complex'>\n"
          ],
          "name": "stdout"
        }
      ]
    },
    {
      "cell_type": "code",
      "metadata": {
        "id": "TumT9GY4IuT2",
        "colab_type": "code",
        "outputId": "cdc611a4-632e-4542-a773-6b055e42b226",
        "colab": {
          "base_uri": "https://localhost:8080/",
          "height": 34
        }
      },
      "source": [
        "c= complex(3,5)\n",
        "print(c)"
      ],
      "execution_count": 0,
      "outputs": [
        {
          "output_type": "stream",
          "text": [
            "(3+5j)\n"
          ],
          "name": "stdout"
        }
      ]
    },
    {
      "cell_type": "code",
      "metadata": {
        "id": "Jck91S4xJy7T",
        "colab_type": "code",
        "outputId": "56a6dc26-66f4-44bd-d563-ca7852593b09",
        "colab": {
          "base_uri": "https://localhost:8080/",
          "height": 85
        }
      },
      "source": [
        "c1=3+5j\n",
        "c2=6+6j\n",
        "print(c1+c2)\n",
        "print(c1-c1)\n",
        "print(c1*c2)\n",
        "print(c1/c2)"
      ],
      "execution_count": 0,
      "outputs": [
        {
          "output_type": "stream",
          "text": [
            "(9+11j)\n",
            "0j\n",
            "(-12+48j)\n",
            "(0.6666666666666666+0.16666666666666666j)\n"
          ],
          "name": "stdout"
        }
      ]
    },
    {
      "cell_type": "markdown",
      "metadata": {
        "id": "vNhGh4VmK4yh",
        "colab_type": "text"
      },
      "source": [
        "## boolean"
      ]
    },
    {
      "cell_type": "code",
      "metadata": {
        "id": "iaKOLvFAKNDi",
        "colab_type": "code",
        "outputId": "e7c99335-8b24-4bde-80ae-e268f7fe4d09",
        "colab": {
          "base_uri": "https://localhost:8080/",
          "height": 34
        }
      },
      "source": [
        "a=10\n",
        "b=20\n",
        "a>b"
      ],
      "execution_count": 0,
      "outputs": [
        {
          "output_type": "execute_result",
          "data": {
            "text/plain": [
              "False"
            ]
          },
          "metadata": {
            "tags": []
          },
          "execution_count": 13
        }
      ]
    },
    {
      "cell_type": "code",
      "metadata": {
        "id": "ANrItHp7KfVH",
        "colab_type": "code",
        "outputId": "d8649b7d-a59f-455a-fb13-de31f98f89ec",
        "colab": {
          "base_uri": "https://localhost:8080/",
          "height": 34
        }
      },
      "source": [
        "s1=\"abc\"\n",
        "s2=\"xyz\"\n",
        "print(type(s1),type(s2))"
      ],
      "execution_count": 0,
      "outputs": [
        {
          "output_type": "stream",
          "text": [
            "<class 'str'> <class 'str'>\n"
          ],
          "name": "stdout"
        }
      ]
    },
    {
      "cell_type": "code",
      "metadata": {
        "id": "OzfCgc75LL6O",
        "colab_type": "code",
        "outputId": "1944e07b-9999-4d52-c843-f6ccc2b4c783",
        "colab": {
          "base_uri": "https://localhost:8080/",
          "height": 68
        }
      },
      "source": [
        "s1=\"100\"\n",
        "print(type(s1))\n",
        "a = int(s1)\n",
        "print(type(a))\n",
        "f=1.25\n",
        "a1=int(f)\n",
        "print(type(a1))\n"
      ],
      "execution_count": 0,
      "outputs": [
        {
          "output_type": "stream",
          "text": [
            "<class 'str'>\n",
            "<class 'int'>\n",
            "<class 'int'>\n"
          ],
          "name": "stdout"
        }
      ]
    },
    {
      "cell_type": "code",
      "metadata": {
        "id": "2juZ2bhJMq0O",
        "colab_type": "code",
        "outputId": "be4a72f1-3d56-4c1c-8dac-e4bffcd8b5e5",
        "colab": {
          "base_uri": "https://localhost:8080/",
          "height": 34
        }
      },
      "source": [
        "a=1234\n",
        "print(len(str(a)))"
      ],
      "execution_count": 0,
      "outputs": [
        {
          "output_type": "stream",
          "text": [
            "4\n"
          ],
          "name": "stdout"
        }
      ]
    },
    {
      "cell_type": "markdown",
      "metadata": {
        "id": "Eq5cw011OVY-",
        "colab_type": "text"
      },
      "source": [
        "## operators\n",
        "1. arithematic operators---->+,-,*,%,//,**\n",
        "2. logical operators-----> and,or\n",
        "rational operators------> \n"
      ]
    },
    {
      "cell_type": "code",
      "metadata": {
        "id": "XF-vDk54QO2K",
        "colab_type": "code",
        "outputId": "b712aecf-ffe7-4d3b-c4a7-891308f4187b",
        "colab": {
          "base_uri": "https://localhost:8080/",
          "height": 51
        }
      },
      "source": [
        "n1=22\n",
        "n2=21\n",
        "print(n1//n2)\n",
        "print(n1**n2)"
      ],
      "execution_count": 0,
      "outputs": [
        {
          "output_type": "stream",
          "text": [
            "1\n",
            "15519448971100888972574851072\n"
          ],
          "name": "stdout"
        }
      ]
    },
    {
      "cell_type": "code",
      "metadata": {
        "id": "-s6sTwJkQvC6",
        "colab_type": "code",
        "outputId": "3fb0ee68-860c-4ef4-bb35-04d47665b0cb",
        "colab": {
          "base_uri": "https://localhost:8080/",
          "height": 85
        }
      },
      "source": [
        "# relational operator\n",
        "print(n1==n2)\n",
        "print(n1!=n2)\n",
        "print(n1>n2)\n",
        "print(n1<n2)"
      ],
      "execution_count": 0,
      "outputs": [
        {
          "output_type": "stream",
          "text": [
            "False\n",
            "True\n",
            "True\n",
            "False\n"
          ],
          "name": "stdout"
        }
      ]
    },
    {
      "cell_type": "code",
      "metadata": {
        "id": "D0Tat5anRZ7S",
        "colab_type": "code",
        "outputId": "1915cd0a-73d4-42b2-acae-3953c048e8c6",
        "colab": {
          "base_uri": "https://localhost:8080/",
          "height": 68
        }
      },
      "source": [
        "# logical operator\n",
        "n1=20\n",
        "print(n1>=10 and n1<=20)\n",
        "print(n1>=10 or n1<=20)\n",
        "print(not n1)"
      ],
      "execution_count": 0,
      "outputs": [
        {
          "output_type": "stream",
          "text": [
            "True\n",
            "True\n",
            "False\n"
          ],
          "name": "stdout"
        }
      ]
    },
    {
      "cell_type": "code",
      "metadata": {
        "id": "PlUjh_rvTje_",
        "colab_type": "code",
        "outputId": "d51f78da-caa8-4e1b-9bf0-f5e2bcef8b17",
        "colab": {
          "base_uri": "https://localhost:8080/",
          "height": 153
        }
      },
      "source": [
        "a= input( \"enter the value of a\")\n",
        "b= input(\"enter the value of b\")\n",
        "print(a>b)\n",
        "print(a<b)\n",
        "print(a==b)\n",
        "print(a!=b)\n",
        "print(a<=b)\n",
        "print(a>=b)"
      ],
      "execution_count": 0,
      "outputs": [
        {
          "output_type": "stream",
          "text": [
            "enter the value of a10\n",
            "enter the value of b20\n",
            "False\n",
            "True\n",
            "False\n",
            "True\n",
            "True\n",
            "False\n"
          ],
          "name": "stdout"
        }
      ]
    },
    {
      "cell_type": "markdown",
      "metadata": {
        "id": "u9PIC6qLXmZT",
        "colab_type": "text"
      },
      "source": [
        "# problems on membership operators\n",
        "## in-true if the values found in sequence \n",
        "## notin-true if the value not found in sequence"
      ]
    },
    {
      "cell_type": "code",
      "metadata": {
        "id": "am_b3n1AXpR-",
        "colab_type": "code",
        "outputId": "bb39dedf-27d5-4671-9eed-81530e521877",
        "colab": {
          "base_uri": "https://localhost:8080/",
          "height": 68
        }
      },
      "source": [
        "f=[1,2,3.4]\n",
        "print(1 in f)\n",
        "print(5 in f)\n",
        "print(6 not in f)"
      ],
      "execution_count": 0,
      "outputs": [
        {
          "output_type": "stream",
          "text": [
            "True\n",
            "False\n",
            "True\n"
          ],
          "name": "stdout"
        }
      ]
    },
    {
      "cell_type": "markdown",
      "metadata": {
        "id": "OEb5dMliZR81",
        "colab_type": "text"
      },
      "source": [
        "# conditional statements\n",
        "1. if\n",
        "2. else\n",
        "3. elif\n",
        "# syntax\n",
        "#### if conditions:\n",
        "> statements<br>\n",
        "####else\n",
        "> statements"
      ]
    },
    {
      "cell_type": "code",
      "metadata": {
        "id": "QAPrRFRgZ2x7",
        "colab_type": "code",
        "outputId": "798337f9-f1a6-4c71-b7fa-fcbed9d69b0d",
        "colab": {
          "base_uri": "https://localhost:8080/",
          "height": 51
        }
      },
      "source": [
        "n = int(input(\"enter a number\"))\n",
        "if n%2 == 0:\n",
        "  print(\"even\")\n",
        "else:\n",
        "  print(\"odd\")"
      ],
      "execution_count": 0,
      "outputs": [
        {
          "output_type": "stream",
          "text": [
            "enter a number10\n",
            "even\n"
          ],
          "name": "stdout"
        }
      ]
    },
    {
      "cell_type": "markdown",
      "metadata": {
        "id": "zVPVCpY-cdtr",
        "colab_type": "text"
      },
      "source": [
        "# multiple of 3 and 5"
      ]
    },
    {
      "cell_type": "code",
      "metadata": {
        "id": "oSMmNEipagxl",
        "colab_type": "code",
        "outputId": "62921b25-1c07-421c-bb99-d554754120d9",
        "colab": {
          "base_uri": "https://localhost:8080/",
          "height": 51
        }
      },
      "source": [
        "n= int(input(\"enter a number\"))\n",
        "if n%3 == 0 or n%5 == 0:\n",
        "  print(\"multiple of 3 and 5\")\n",
        "else:\n",
        "  print(\"not a multiple of 3 and 5\")"
      ],
      "execution_count": 0,
      "outputs": [
        {
          "output_type": "stream",
          "text": [
            "enter a number15\n",
            "multiple of 3 and 5\n"
          ],
          "name": "stdout"
        }
      ]
    },
    {
      "cell_type": "code",
      "metadata": {
        "id": "wURtQ21ScKy0",
        "colab_type": "code",
        "outputId": "56ba41d6-0694-48f3-be39-3b060607c253",
        "colab": {
          "base_uri": "https://localhost:8080/",
          "height": 51
        }
      },
      "source": [
        "n= int(input(\"enter a number\"))\n",
        "if n>0:\n",
        "  print(\"positive\")\n",
        "elif n<0:\n",
        "  print(\"negative\")\n",
        "else:\n",
        "  print(\"0\")"
      ],
      "execution_count": 0,
      "outputs": [
        {
          "output_type": "stream",
          "text": [
            "enter a number0\n",
            "0\n"
          ],
          "name": "stdout"
        }
      ]
    },
    {
      "cell_type": "code",
      "metadata": {
        "id": "iqDHuRQqgEV8",
        "colab_type": "code",
        "outputId": "9246fb3d-0096-4b74-bfe4-62e3d829a9a9",
        "colab": {
          "base_uri": "https://localhost:8080/",
          "height": 51
        }
      },
      "source": [
        "n = int(input(\"enter a year\"))\n",
        "if n%400==0 or (n%100!=0 and n%4==0):\n",
        "  print(\"leap year\")\n",
        "else:\n",
        "  print(\"not a leap year\")"
      ],
      "execution_count": 0,
      "outputs": [
        {
          "output_type": "stream",
          "text": [
            "enter a year2019\n",
            "not a leap year\n"
          ],
          "name": "stdout"
        }
      ]
    },
    {
      "cell_type": "code",
      "metadata": {
        "id": "KckOrVougoKl",
        "colab_type": "code",
        "outputId": "2f441540-d6e6-4b0d-cfb5-ee36cbeba749",
        "colab": {
          "base_uri": "https://localhost:8080/",
          "height": 51
        }
      },
      "source": [
        "n= int(input(\"enter a value\"))\n",
        "i=1\n",
        "while i<=n:\n",
        "  print(i,end=\"  \")\n",
        "  i=i+1"
      ],
      "execution_count": 0,
      "outputs": [
        {
          "output_type": "stream",
          "text": [
            "enter a value10\n",
            "1  2  3  4  5  6  7  8  9  10  "
          ],
          "name": "stdout"
        }
      ]
    },
    {
      "cell_type": "code",
      "metadata": {
        "id": "ezbmqsCQi6Sa",
        "colab_type": "code",
        "outputId": "424945e6-8450-4a93-d8ba-c55a3f704346",
        "colab": {
          "base_uri": "https://localhost:8080/",
          "height": 51
        }
      },
      "source": [
        "n= int(input(\"enter a number\"))\n",
        "i=1\n",
        "s=0\n",
        "while i<=n:\n",
        "  if i%2==0:\n",
        "    s=s+i\n",
        "  i=i+1\n",
        "print(s)"
      ],
      "execution_count": 0,
      "outputs": [
        {
          "output_type": "stream",
          "text": [
            "enter a number10\n",
            "30\n"
          ],
          "name": "stdout"
        }
      ]
    },
    {
      "cell_type": "code",
      "metadata": {
        "id": "w9249X-SkkQi",
        "colab_type": "code",
        "colab": {}
      },
      "source": [
        ""
      ],
      "execution_count": 0,
      "outputs": []
    }
  ]
}