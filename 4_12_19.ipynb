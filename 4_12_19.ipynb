{
  "nbformat": 4,
  "nbformat_minor": 0,
  "metadata": {
    "colab": {
      "name": "4/12/19.ipynb",
      "provenance": [],
      "include_colab_link": true
    },
    "kernelspec": {
      "name": "python3",
      "display_name": "Python 3"
    }
  },
  "cells": [
    {
      "cell_type": "markdown",
      "metadata": {
        "id": "view-in-github",
        "colab_type": "text"
      },
      "source": [
        "<a href=\"https://colab.research.google.com/github/hemant-sherla/CRTprogram/blob/master/4_12_19.ipynb\" target=\"_parent\"><img src=\"https://colab.research.google.com/assets/colab-badge.svg\" alt=\"Open In Colab\"/></a>"
      ]
    },
    {
      "cell_type": "markdown",
      "metadata": {
        "id": "TM3bgcAwBPe1",
        "colab_type": "text"
      },
      "source": [
        "### fundamental programming\n",
        "1. simple\n",
        "2. easy to understand\n",
        "3. better reusability\n",
        "4. length of program will be divide into sub programs"
      ]
    },
    {
      "cell_type": "code",
      "metadata": {
        "id": "a_K0XrdLByES",
        "colab_type": "code",
        "colab": {}
      },
      "source": [
        "def nameoffunction(<parameter>):\n",
        "  statements\n",
        "  return"
      ],
      "execution_count": 0,
      "outputs": []
    },
    {
      "cell_type": "code",
      "metadata": {
        "id": "SXY4m4gTDZU6",
        "colab_type": "code",
        "colab": {
          "base_uri": "https://localhost:8080/",
          "height": 34
        },
        "outputId": "f8b488ac-d402-49df-8532-1ba399f8ac9f"
      },
      "source": [
        "def evendigitsum(n):\n",
        "  s=0\n",
        "  while n!=0:\n",
        "    r=n%10\n",
        "    if r%2==0:\n",
        "      s=s+r\n",
        "    n=n//10\n",
        "  return s\n",
        "evendigitsum(1234)"
      ],
      "execution_count": 2,
      "outputs": [
        {
          "output_type": "execute_result",
          "data": {
            "text/plain": [
              "6"
            ]
          },
          "metadata": {
            "tags": []
          },
          "execution_count": 2
        }
      ]
    },
    {
      "cell_type": "code",
      "metadata": {
        "id": "Mnz63xDeEOd9",
        "colab_type": "code",
        "colab": {
          "base_uri": "https://localhost:8080/",
          "height": 34
        },
        "outputId": "e1eb1603-f190-4194-81f1-5f499b166a9d"
      },
      "source": [
        "def square(x):\n",
        "  print(x*x)\n",
        "square(4)"
      ],
      "execution_count": 4,
      "outputs": [
        {
          "output_type": "stream",
          "text": [
            "16\n"
          ],
          "name": "stdout"
        }
      ]
    },
    {
      "cell_type": "code",
      "metadata": {
        "id": "kXaATMVbG5sX",
        "colab_type": "code",
        "colab": {
          "base_uri": "https://localhost:8080/",
          "height": 34
        },
        "outputId": "f3429348-c2c2-4b70-994d-4a09119b007d"
      },
      "source": [
        "def root(x):\n",
        "  print(x**0.5)\n",
        "root(4)"
      ],
      "execution_count": 8,
      "outputs": [
        {
          "output_type": "stream",
          "text": [
            "2.0\n"
          ],
          "name": "stdout"
        }
      ]
    },
    {
      "cell_type": "code",
      "metadata": {
        "id": "MHkaPw_QHgz7",
        "colab_type": "code",
        "colab": {
          "base_uri": "https://localhost:8080/",
          "height": 68
        },
        "outputId": "a21d3025-f42a-4cdf-abff-9cbbd0296261"
      },
      "source": [
        "def multiply(x,y):\n",
        "  print(\"value of x\",x)\n",
        "  print(\"value of y\",y)\n",
        "  return(x*y)\n",
        "print(multiply(y=2,x=2))"
      ],
      "execution_count": 12,
      "outputs": [
        {
          "output_type": "stream",
          "text": [
            "value of x 2\n",
            "value of y 2\n",
            "4\n"
          ],
          "name": "stdout"
        }
      ]
    },
    {
      "cell_type": "code",
      "metadata": {
        "id": "FInOEbp_Ju-0",
        "colab_type": "code",
        "colab": {
          "base_uri": "https://localhost:8080/",
          "height": 68
        },
        "outputId": "0f22b00d-fbb5-4d53-8028-044cfa28eda8"
      },
      "source": [
        "x=int(input(\"enter the value of x\"))\n",
        "y=int(input(\"enter the value of y\"))\n",
        "def swap(x,y):\n",
        "  temp = x\n",
        "  x=y\n",
        "  y = temp\n",
        "  return x,y\n",
        "swap(x,y)"
      ],
      "execution_count": 17,
      "outputs": [
        {
          "output_type": "stream",
          "text": [
            "enter the value of x3\n",
            "enter the value of y4\n"
          ],
          "name": "stdout"
        },
        {
          "output_type": "execute_result",
          "data": {
            "text/plain": [
              "(4, 3)"
            ]
          },
          "metadata": {
            "tags": []
          },
          "execution_count": 17
        }
      ]
    },
    {
      "cell_type": "code",
      "metadata": {
        "id": "ywAxz2CRMqWm",
        "colab_type": "code",
        "colab": {
          "base_uri": "https://localhost:8080/",
          "height": 34
        },
        "outputId": "dcf694f7-6062-499d-cf65-3c1a5ca91179"
      },
      "source": [
        "def largedigit(n):\n",
        "  large=0\n",
        "  while n!=0:\n",
        "    r=n%10\n",
        "    if large < r:\n",
        "        large = r\n",
        "    n=n//10\n",
        "  return large\n",
        "largedigit(19456)"
      ],
      "execution_count": 22,
      "outputs": [
        {
          "output_type": "execute_result",
          "data": {
            "text/plain": [
              "9"
            ]
          },
          "metadata": {
            "tags": []
          },
          "execution_count": 22
        }
      ]
    },
    {
      "cell_type": "code",
      "metadata": {
        "id": "CBZn6jUlTsQm",
        "colab_type": "code",
        "colab": {
          "base_uri": "https://localhost:8080/",
          "height": 34
        },
        "outputId": "a1e74de7-0dc7-4242-e701-a171ac7446f2"
      },
      "source": [
        "def printseries(lb,ub):\n",
        "  for x in range(lb,ub+1):\n",
        "      print(x,end =' ')\n",
        "  return\n",
        "printseries(1,10)"
      ],
      "execution_count": 23,
      "outputs": [
        {
          "output_type": "stream",
          "text": [
            "1 2 3 4 5 6 7 8 9 10 "
          ],
          "name": "stdout"
        }
      ]
    },
    {
      "cell_type": "markdown",
      "metadata": {
        "id": "6Z2Atwa6WEZD",
        "colab_type": "text"
      },
      "source": [
        "# collection types\n",
        "1. list\n",
        "2. tools\n",
        "3. set\n",
        "4. dictionary"
      ]
    },
    {
      "cell_type": "markdown",
      "metadata": {
        "id": "fnY3dV91Wwr2",
        "colab_type": "text"
      },
      "source": [
        "## list\n",
        "-one of the data structure is python\n",
        "-Data structure means to store,sort and search options\n",
        "-it's one example "
      ]
    },
    {
      "cell_type": "code",
      "metadata": {
        "id": "Bh7KiXn3Y6OL",
        "colab_type": "code",
        "colab": {
          "base_uri": "https://localhost:8080/",
          "height": 68
        },
        "outputId": "d2d680f0-e748-4d3b-a7f4-6d8d3f388b87"
      },
      "source": [
        "li = [1,8,16,8,2]\n",
        "print(li)\n",
        "print(li[1:4])\n",
        "print(li[4:])"
      ],
      "execution_count": 29,
      "outputs": [
        {
          "output_type": "stream",
          "text": [
            "[1, 8, 16, 8, 2]\n",
            "[8, 16, 8]\n",
            "[2]\n"
          ],
          "name": "stdout"
        }
      ]
    },
    {
      "cell_type": "code",
      "metadata": {
        "id": "8NqQys_yalqr",
        "colab_type": "code",
        "colab": {
          "base_uri": "https://localhost:8080/",
          "height": 51
        },
        "outputId": "178c94fb-3134-4386-d24f-970645781559"
      },
      "source": [
        "li=['gitam',124,'hyd']\n",
        "print(li)\n",
        "li[1]=458\n",
        "print(li)"
      ],
      "execution_count": 32,
      "outputs": [
        {
          "output_type": "stream",
          "text": [
            "['gitam', 124, 'hyd']\n",
            "['gitam', 458, 'hyd']\n"
          ],
          "name": "stdout"
        }
      ]
    },
    {
      "cell_type": "code",
      "metadata": {
        "id": "KzJLs7MZbxeA",
        "colab_type": "code",
        "colab": {
          "base_uri": "https://localhost:8080/",
          "height": 51
        },
        "outputId": "f2cb767d-d0d1-436f-a6f1-fe01a05fb454"
      },
      "source": [
        "li=['gitam',124,'hyd']\n",
        "print(li)\n",
        "del li[2]\n",
        "print(li)"
      ],
      "execution_count": 33,
      "outputs": [
        {
          "output_type": "stream",
          "text": [
            "['gitam', 124, 'hyd']\n",
            "['gitam', 124]\n"
          ],
          "name": "stdout"
        }
      ]
    },
    {
      "cell_type": "code",
      "metadata": {
        "id": "vcXI6B3rcX2Q",
        "colab_type": "code",
        "colab": {}
      },
      "source": [
        ""
      ],
      "execution_count": 0,
      "outputs": []
    }
  ]
}